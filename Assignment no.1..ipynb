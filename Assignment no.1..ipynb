{
 "cells": [
  {
   "cell_type": "markdown",
   "id": "bcfc1e98",
   "metadata": {},
   "source": [
    "# 1.In the below elements which of them are values or an expression? \n",
    "'hello', -87.8 ,- , / , +\t, 6, *"
   ]
  },
  {
   "cell_type": "markdown",
   "id": "d761465d",
   "metadata": {},
   "source": [
    "Answer->\n",
    " Values are    = -87.8,6,'hello'\n",
    " Expression are=-,/,+,*   "
   ]
  },
  {
   "cell_type": "markdown",
   "id": "8e326a5b",
   "metadata": {},
   "source": [
    "# 2.What is the difference between string and variable?\n"
   ]
  },
  {
   "cell_type": "markdown",
   "id": "206e6a54",
   "metadata": {},
   "source": [
    "   The main difference between a string and a variable is that a string is a specific type of data representing a sequence of characters,while a variable is a placeholder that can hold different types of data,including strings.A variable can be assigned a string value,and it can also be assigned other types of data such as numbers,booleans,or objects."
   ]
  },
  {
   "cell_type": "markdown",
   "id": "8a98892b",
   "metadata": {},
   "source": [
    "# 3. Describe three different data types."
   ]
  },
  {
   "cell_type": "markdown",
   "id": "294468ec",
   "metadata": {},
   "source": [
    "### There are 3 data types as List,tuple and dictionary\n",
    "\n",
    "1.List:A list allows to store multiple values such as numbers,strings,or even other lists,list is mutable i.e we can add,remove,replace element and modify the values.\n",
    "\n",
    "2.Tuple:A tuple allows to store multiple values such as numbers,strings,or even other tuple.Since tuples are immutable,you cannot modify the values once they are assigned.However,you can access individual elements using indexing,just like in lists.\n",
    "\n",
    "3.Dictionary:dictionaries are represented by curly braces \"{}\" and consist of key-value pair is separated by commas."
   ]
  },
  {
   "cell_type": "markdown",
   "id": "33a188dc",
   "metadata": {},
   "source": [
    "# 4. What is an expression made up of? What do all expressions do?"
   ]
  },
  {
   "cell_type": "markdown",
   "id": "e18a872d",
   "metadata": {},
   "source": [
    "An expression is a combination of values, variables, operators, and function calls that can be evaluated to produce a value\n"
   ]
  },
  {
   "cell_type": "markdown",
   "id": "0200dda7",
   "metadata": {},
   "source": [
    "# 5. This assignment statements, like spam = 10. What is the difference between an expression and a statement?"
   ]
  },
  {
   "cell_type": "markdown",
   "id": "14e5620b",
   "metadata": {},
   "source": [
    "The main difference is that an expressions are used to compute values, while statements are used to perform actions or control the flow of execution in a program. \n",
    "\n",
    "Statements often involve expressions as part of their execution, but they are fundamentally different in terms of their purpose and behavior.\n",
    "\n",
    "In the assignment statement spam = 10, the left-hand side (spam) is a variable, and the right-hand side (10) is an expression that evaluates to the value 10. The statement assigns the value of the expression to the variable."
   ]
  },
  {
   "cell_type": "markdown",
   "id": "12c3826d",
   "metadata": {},
   "source": [
    "# 6. After running the following code, what does the variable bacon contain?"
   ]
  },
  {
   "cell_type": "markdown",
   "id": "7d3c2761",
   "metadata": {},
   "source": [
    "### bacon = 22\n",
    "### bacon + 1"
   ]
  },
  {
   "cell_type": "code",
   "execution_count": 5,
   "id": "00ba437f",
   "metadata": {},
   "outputs": [
    {
     "data": {
      "text/plain": [
       "23"
      ]
     },
     "execution_count": 5,
     "metadata": {},
     "output_type": "execute_result"
    }
   ],
   "source": [
    "bacon=22\n",
    "bacon+1"
   ]
  },
  {
   "cell_type": "markdown",
   "id": "db12f0f1",
   "metadata": {},
   "source": [
    "# 7. What should the values of the following two terms be?\n",
    "### 'spam' + 'spamspam'\n",
    "\n",
    "### 'spam' * 3"
   ]
  },
  {
   "cell_type": "code",
   "execution_count": 6,
   "id": "001864fa",
   "metadata": {},
   "outputs": [
    {
     "data": {
      "text/plain": [
       "'spamspamspam'"
      ]
     },
     "execution_count": 6,
     "metadata": {},
     "output_type": "execute_result"
    }
   ],
   "source": [
    "'spam'+'spamspam'"
   ]
  },
  {
   "cell_type": "code",
   "execution_count": 7,
   "id": "ce143715",
   "metadata": {},
   "outputs": [
    {
     "data": {
      "text/plain": [
       "'spamspamspam'"
      ]
     },
     "execution_count": 7,
     "metadata": {},
     "output_type": "execute_result"
    }
   ],
   "source": [
    "'spam'*3"
   ]
  },
  {
   "cell_type": "markdown",
   "id": "80be75ad",
   "metadata": {},
   "source": [
    "# 8. Why is eggs a valid variable name while 100 is invalid?"
   ]
  },
  {
   "cell_type": "code",
   "execution_count": 8,
   "id": "877acc4a",
   "metadata": {},
   "outputs": [],
   "source": [
    "eggs=\"hello\""
   ]
  },
  {
   "cell_type": "code",
   "execution_count": 9,
   "id": "6d07b7a0",
   "metadata": {},
   "outputs": [
    {
     "ename": "SyntaxError",
     "evalue": "cannot assign to literal (545194088.py, line 1)",
     "output_type": "error",
     "traceback": [
      "\u001b[1;36m  File \u001b[1;32m\"C:\\Users\\Lenovo\\AppData\\Local\\Temp\\ipykernel_14056\\545194088.py\"\u001b[1;36m, line \u001b[1;32m1\u001b[0m\n\u001b[1;33m    100=\"hello\"  ## remember-variable name cannot begin with number\u001b[0m\n\u001b[1;37m    ^\u001b[0m\n\u001b[1;31mSyntaxError\u001b[0m\u001b[1;31m:\u001b[0m cannot assign to literal\n"
     ]
    }
   ],
   "source": [
    "100=\"hello\"  ## remember-variable name cannot begin with number"
   ]
  },
  {
   "cell_type": "markdown",
   "id": "cdf71c3b",
   "metadata": {},
   "source": [
    "# 9. What three functions can be used to get the integer, floating-point number, or string version of a value?¶"
   ]
  },
  {
   "cell_type": "markdown",
   "id": "727d80fa",
   "metadata": {},
   "source": [
    "Functions are:\n",
    "\n",
    "int() function to convert a value to an integer.\n",
    "\n",
    "float() function to convert a value to a floating-point number.\n",
    "\n",
    "\n",
    "str() function to convert a value to a string."
   ]
  },
  {
   "cell_type": "markdown",
   "id": "48363c60",
   "metadata": {},
   "source": [
    "# 10. Why does this expression cause an error? How can you fix it?"
   ]
  },
  {
   "cell_type": "markdown",
   "id": "9d41687d",
   "metadata": {},
   "source": [
    "### 'I have eaten ' + 99 + ' burritos.'"
   ]
  },
  {
   "cell_type": "markdown",
   "id": "8db52fa7",
   "metadata": {},
   "source": [
    "we can only concatenate string (not int) to str.\n",
    "\n",
    "So we fix it by converting int into string ."
   ]
  },
  {
   "cell_type": "code",
   "execution_count": 10,
   "id": "028b315e",
   "metadata": {},
   "outputs": [
    {
     "data": {
      "text/plain": [
       "'I have eaten99burritos'"
      ]
     },
     "execution_count": 10,
     "metadata": {},
     "output_type": "execute_result"
    }
   ],
   "source": [
    "'I have eaten'+'99'+'burritos'"
   ]
  },
  {
   "cell_type": "code",
   "execution_count": null,
   "id": "de59392a",
   "metadata": {},
   "outputs": [],
   "source": []
  }
 ],
 "metadata": {
  "kernelspec": {
   "display_name": "Python 3 (ipykernel)",
   "language": "python",
   "name": "python3"
  },
  "language_info": {
   "codemirror_mode": {
    "name": "ipython",
    "version": 3
   },
   "file_extension": ".py",
   "mimetype": "text/x-python",
   "name": "python",
   "nbconvert_exporter": "python",
   "pygments_lexer": "ipython3",
   "version": "3.9.13"
  }
 },
 "nbformat": 4,
 "nbformat_minor": 5
}
